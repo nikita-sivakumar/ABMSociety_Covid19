{
 "cells": [
  {
   "cell_type": "markdown",
   "metadata": {
    "colab_type": "text",
    "id": "ZPPfGOyZKyBK"
   },
   "source": [
    "# **Base Covid-19 Spread Model**\n",
    "\n",
    "Goal: simulate virus spread in a population. Agents will move randomly on an on-lattice grid and infected individuals have the ability to spread infection to susceptible individuals."
   ]
  },
  {
   "cell_type": "code",
   "execution_count": 1,
   "metadata": {
    "colab": {
     "base_uri": "https://localhost:8080/",
     "height": 487
    },
    "colab_type": "code",
    "id": "AGborhaTKvk7",
    "outputId": "78370366-c04f-46e1-a0fc-df97df6132d6"
   },
   "outputs": [],
   "source": [
    "import matplotlib.pyplot as plt\n",
    "import pandas as pd\n",
    "import numpy as np"
   ]
  },
  {
   "cell_type": "markdown",
   "metadata": {
    "colab_type": "text",
    "id": "HOP89CBscOzw"
   },
   "source": [
    "**Things to add from here:**\n",
    "-determining different agents\n",
    "\n",
    "-is there a way to import a map into the model\n",
    "\n",
    "-making directed movement (we create centoids like residential areas, grocery stores, lecture halls, different schools,\n",
    "\n",
    "-give each agent age + pre-existing conditions\n",
    "\n",
    "-encode an \"incubation\" period\n",
    "\n",
    "-encode the ability to get better after infection\n",
    "\n",
    "-encode death of agents\n",
    "\n",
    "-maybe encode \"health\" as a \n",
    "\n",
    "-social distancing/self-quaranting based on whether they know they are infected\n",
    "\n",
    "-encode known and unknwon infections --> based on who is getting tested"
   ]
  },
  {
   "cell_type": "code",
   "execution_count": 2,
   "metadata": {
    "colab": {
     "base_uri": "https://localhost:8080/",
     "height": 53
    },
    "colab_type": "code",
    "id": "kH7PCH5LviQg",
    "outputId": "8534fe5b-dd30-439a-a313-61e0f1085d76"
   },
   "outputs": [
    {
     "name": "stderr",
     "output_type": "stream",
     "text": [
      "/usr/local/lib/python3.7/site-packages/skimage/viewer/utils/__init__.py:1: UserWarning: Recommended matplotlib backend is `Agg` for full skimage.viewer functionality.\n",
      "  from .core import *\n"
     ]
    }
   ],
   "source": [
    "import skimage\n",
    "import skimage.io\n",
    "import skimage.viewer\n",
    "import skimage.color\n",
    "from skimage.measure import label, regionprops, regionprops_table\n"
   ]
  },
  {
   "cell_type": "code",
   "execution_count": 3,
   "metadata": {},
   "outputs": [],
   "source": [
    "# from mesa import Agent, Model\n",
    "# from mesa.time import RandomActivation\n",
    "# from mesa.space import MultiGrid\n",
    "# from mesa.datacollection import DataCollector\n",
    "\n",
    "# class Individual(Agent):\n",
    "#     def __init__(self,unique_id,model,infected):\n",
    "#         super().__init__(unique_id,model)\n",
    "#         self.infected = infected\n",
    "#     #instantiate private variables like age, pre-existing conditions...\n",
    "  \n",
    "#     def step(self):\n",
    "#         self.move()\n",
    "#         if self.infected == 1:\n",
    "#             self.infect()\n",
    "\n",
    "#     def move(self):\n",
    "#         move_spots = self.model.grid.get_neighborhood(\n",
    "#             self.pos,\n",
    "#             moore = True,\n",
    "#             include_center=False\n",
    "#         )\n",
    "#         new_position = self.random.choice(move_spots)\n",
    "#         self.model.grid.move_agent(self,new_position)\n",
    "\n",
    "#     def infect(self):\n",
    "#         infectable_individuals = self.model.grid.get_cell_list_contents([self.pos])\n",
    "#         if len(infectable_individuals) > 1:\n",
    "#             for a in infectable_individuals:\n",
    "#                 a.infected = 1\n",
    "\n",
    "# class CovidModel(Model):\n",
    "#     def __init__(self,N,width,height):\n",
    "#         super().__init__()\n",
    "#         self.num_agents = N\n",
    "#         self.grid = MultiGrid(width,height,True)\n",
    "#         self.schedule = RandomActivation(self)\n",
    "\n",
    "#         for i in range(self.num_agents):\n",
    "#             infected_i = np.random.randint(0,2)\n",
    "#             a = Individual(i,self,infected_i)\n",
    "#             self.schedule.add(a)\n",
    "\n",
    "#             x = self.random.randrange(self.grid.width)\n",
    "#             y = self.random.randrange(self.grid.height)\n",
    "# #             print(x)\n",
    "# #             print(y)\n",
    "#             self.grid.place_agent(a,(x,y))\n",
    "\n",
    "#         self.datacollector = DataCollector(\n",
    "#           model_reporters = {\"Number_Infected\": calc_num_infected},\n",
    "#           agent_reporters = {\"Infection_Status\": \"infected\"}\n",
    "#         )\n",
    "  \n",
    "#     def step(self):\n",
    "#         self.datacollector.collect(self)\n",
    "#         self.schedule.step()\n",
    "\n",
    "# def calc_num_infected(model):\n",
    "#     return sum(a.infected for a in model.schedule.agents)"
   ]
  },
  {
   "cell_type": "code",
   "execution_count": 4,
   "metadata": {
    "colab": {},
    "colab_type": "code",
    "id": "BVBeS5e9eaHY"
   },
   "outputs": [],
   "source": [
    "from mesa import Agent, Model\n",
    "from mesa.time import RandomActivation\n",
    "from mesa.space import MultiGrid\n",
    "from mesa.datacollection import DataCollector\n",
    "from scipy.spatial import distance\n",
    "job_list = ['Thornton','Rotunda','UVA Health','Nau Hall','Minor Hall','Mcintire','Newcomb Hall']\n",
    "locations = {'Thornton': (8,73), 'Rotunda': (79,36), 'UVA Health': (92,70), 'Nau Hall': (50,95), 'Minor Hall': (42,55), 'Mcintire': (67,75), 'Newcomb Hall': (42,30)}\n",
    "# make these coordinates accurate\n",
    "\n",
    "class Individual(Agent):\n",
    "  #age,health,job\n",
    "    def __init__(self,unique_id,model,infected): # incubation period? \n",
    "        super().__init__(unique_id,model)\n",
    "\n",
    "        # list of jobs students can have and the probability they are that student\n",
    "        self.infected = infected\n",
    "        # self.age = age\n",
    "        # self.health = health\n",
    "\n",
    "        # give each agent a random school based on those probabilities\n",
    "        self.job = np.random.choice(job_list)\n",
    "\n",
    "        if self.infected == 0:\n",
    "            self.time_infected = 0\n",
    "        else:\n",
    "            self.time_infected = -1\n",
    "        #instantiate private variables like age, pre-existing conditions...\n",
    "  \n",
    "    def step(self):\n",
    "        self.move()\n",
    "        if self.infected == 1:\n",
    "            self.infect()\n",
    "    \n",
    "    def move(self):\n",
    "        move_spots = self.model.grid.get_neighborhood(\n",
    "            self.pos,\n",
    "            moore = True,\n",
    "            include_center=False\n",
    "        )\n",
    "\n",
    "        destination = locations[self.job]\n",
    "        list_of_dist = [distance.euclidean(i,destination) for i in move_spots]\n",
    "        new_position = move_spots[np.argmin(list_of_dist)]\n",
    "        self.model.grid.move_agent(self,new_position)  \n",
    "    \n",
    "#         move_spots = self.model.grid.get_neighborhood(\n",
    "#             self.pos,\n",
    "#             moore = True,\n",
    "#             include_center=False\n",
    "#         )\n",
    "#         new_position = self.random.choice(move_spots)\n",
    "#         self.model.grid.move_agent(self,new_position)\n",
    "    \n",
    " #   def infect(self):\n",
    " #       infectable_individuals = self.model.grid.get_cell_list_contents([self.pos])\n",
    " #       if len(infectable_individuals) > 1:\n",
    " #           for a in infectable_individuals:\n",
    " #               a.infected = 1\n",
    "    \n",
    " def infect(self):
    " infectable_individuals = self.model.grid.get_cell_list_contents([self.pos])
    " grid_size = 100 # I don't think there's any way to do this without committing to a grid size now
    " infectable_density = len(infectable_individuals)/grid_size
    " tolerance = 1/7;
    " # so this is weird - I'll clarify next time we meet why tolerance isn't 1/6
    " if infectable_density > tolerance:
    "   # if people aren't social distancing properly, they don't all automatically get infected unless they have less than a foot of space between them
    "   for a in infectable_individuals:
    "     spin_the_wheel = np.random.random()
    "     # this a.masked thing is pseudocode - idk if mesa likes this syntax
    "     # but it does show how masked vs non-masked can be implemented
    "     if a.masked == false and (spin_the_wheel/2) < infectable_density:
    "       a.infected = 1
    "     elif spin_the_wheel < infectable_density:
    "       a.infected = 1
    "\n",
    "class CovidModel(Model):\n",
    "    def __init__(self,N,width,height):\n",
    "        super().__init__()\n",
    "        self.num_agents = N\n",
    "        self.grid = MultiGrid(width,height,True)\n",
    "        self.schedule = RandomActivation(self)\n",
    "\n",
    "        for i in range(self.num_agents):\n",
    "            infected_i = np.random.randint(0,2)\n",
    "            a = Individual(i,self,infected_i)\n",
    "            self.schedule.add(a)\n",
    "            \n",
    "            x = self.random.randrange(self.grid.width)\n",
    "            y = self.random.randrange(self.grid.height)\n",
    "            self.grid.place_agent(a,(x,y))\n",
    "            \n",
    "        self.datacollector = DataCollector(\n",
    "          model_reporters = {\"Number_Infected\": calc_num_infected},\n",
    "          agent_reporters = {\"Infection_Status\": \"infected\"}\n",
    "        )\n",
    "\n",
    "    def step(self):\n",
    "        self.datacollector.collect(self)\n",
    "        self.schedule.step()\n",
    "\n",
    "def calc_num_infected(model):\n",
    "    return sum(a.infected for a in model.schedule.agents)"
   ]
  },
  {
   "cell_type": "code",
   "execution_count": 5,
   "metadata": {},
   "outputs": [],
   "source": [
    "# model = CovidModel(10000, 1200, 1000)\n",
    "# for i in range(20):\n",
    "#     model.step()"
   ]
  },
  {
   "cell_type": "code",
   "execution_count": 6,
   "metadata": {},
   "outputs": [],
   "source": [
    "# import numpy as np\n",
    "# agent_counts = np.zeros((model.grid.width, model.grid.height))\n",
    "# for cell in model.grid.coord_iter():\n",
    "#     cell_content, x, y = cell\n",
    "#     agent_count = len(cell_content)\n",
    "#     agent_counts[x][y] = agent_count\n",
    "# plt.imshow(agent_counts,interpolation='nearest')\n",
    "# plt.colorbar()"
   ]
  },
  {
   "cell_type": "code",
   "execution_count": 7,
   "metadata": {},
   "outputs": [
    {
     "name": "stdout",
     "output_type": "stream",
     "text": [
      "Interface starting at http://127.0.0.1:8521\n"
     ]
    },
    {
     "ename": "RuntimeError",
     "evalue": "This event loop is already running",
     "output_type": "error",
     "traceback": [
      "\u001b[0;31m---------------------------------------------------------------------------\u001b[0m",
      "\u001b[0;31mRuntimeError\u001b[0m                              Traceback (most recent call last)",
      "\u001b[0;32m<ipython-input-7-33c883dd1087>\u001b[0m in \u001b[0;36m<module>\u001b[0;34m\u001b[0m\n\u001b[1;32m     24\u001b[0m                        {\"N\":100, \"width\":100, \"height\":100})\n\u001b[1;32m     25\u001b[0m \u001b[0mserver\u001b[0m\u001b[0;34m.\u001b[0m\u001b[0mport\u001b[0m \u001b[0;34m=\u001b[0m \u001b[0;36m8521\u001b[0m \u001b[0;31m# The default\u001b[0m\u001b[0;34m\u001b[0m\u001b[0;34m\u001b[0m\u001b[0m\n\u001b[0;32m---> 26\u001b[0;31m \u001b[0mserver\u001b[0m\u001b[0;34m.\u001b[0m\u001b[0mlaunch\u001b[0m\u001b[0;34m(\u001b[0m\u001b[0;34m)\u001b[0m\u001b[0;34m\u001b[0m\u001b[0;34m\u001b[0m\u001b[0m\n\u001b[0m",
      "\u001b[0;32m/usr/local/lib/python3.7/site-packages/mesa/visualization/ModularVisualization.py\u001b[0m in \u001b[0;36mlaunch\u001b[0;34m(self, port, open_browser)\u001b[0m\n\u001b[1;32m    335\u001b[0m             \u001b[0mwebbrowser\u001b[0m\u001b[0;34m.\u001b[0m\u001b[0mopen\u001b[0m\u001b[0;34m(\u001b[0m\u001b[0murl\u001b[0m\u001b[0;34m)\u001b[0m\u001b[0;34m\u001b[0m\u001b[0;34m\u001b[0m\u001b[0m\n\u001b[1;32m    336\u001b[0m         \u001b[0mtornado\u001b[0m\u001b[0;34m.\u001b[0m\u001b[0mautoreload\u001b[0m\u001b[0;34m.\u001b[0m\u001b[0mstart\u001b[0m\u001b[0;34m(\u001b[0m\u001b[0;34m)\u001b[0m\u001b[0;34m\u001b[0m\u001b[0;34m\u001b[0m\u001b[0m\n\u001b[0;32m--> 337\u001b[0;31m         \u001b[0mtornado\u001b[0m\u001b[0;34m.\u001b[0m\u001b[0mioloop\u001b[0m\u001b[0;34m.\u001b[0m\u001b[0mIOLoop\u001b[0m\u001b[0;34m.\u001b[0m\u001b[0mcurrent\u001b[0m\u001b[0;34m(\u001b[0m\u001b[0;34m)\u001b[0m\u001b[0;34m.\u001b[0m\u001b[0mstart\u001b[0m\u001b[0;34m(\u001b[0m\u001b[0;34m)\u001b[0m\u001b[0;34m\u001b[0m\u001b[0;34m\u001b[0m\u001b[0m\n\u001b[0m",
      "\u001b[0;32m/usr/local/lib/python3.7/site-packages/tornado/platform/asyncio.py\u001b[0m in \u001b[0;36mstart\u001b[0;34m(self)\u001b[0m\n\u001b[1;32m    146\u001b[0m             \u001b[0mself\u001b[0m\u001b[0;34m.\u001b[0m\u001b[0m_setup_logging\u001b[0m\u001b[0;34m(\u001b[0m\u001b[0;34m)\u001b[0m\u001b[0;34m\u001b[0m\u001b[0;34m\u001b[0m\u001b[0m\n\u001b[1;32m    147\u001b[0m             \u001b[0masyncio\u001b[0m\u001b[0;34m.\u001b[0m\u001b[0mset_event_loop\u001b[0m\u001b[0;34m(\u001b[0m\u001b[0mself\u001b[0m\u001b[0;34m.\u001b[0m\u001b[0masyncio_loop\u001b[0m\u001b[0;34m)\u001b[0m\u001b[0;34m\u001b[0m\u001b[0;34m\u001b[0m\u001b[0m\n\u001b[0;32m--> 148\u001b[0;31m             \u001b[0mself\u001b[0m\u001b[0;34m.\u001b[0m\u001b[0masyncio_loop\u001b[0m\u001b[0;34m.\u001b[0m\u001b[0mrun_forever\u001b[0m\u001b[0;34m(\u001b[0m\u001b[0;34m)\u001b[0m\u001b[0;34m\u001b[0m\u001b[0;34m\u001b[0m\u001b[0m\n\u001b[0m\u001b[1;32m    149\u001b[0m         \u001b[0;32mfinally\u001b[0m\u001b[0;34m:\u001b[0m\u001b[0;34m\u001b[0m\u001b[0;34m\u001b[0m\u001b[0m\n\u001b[1;32m    150\u001b[0m             \u001b[0masyncio\u001b[0m\u001b[0;34m.\u001b[0m\u001b[0mset_event_loop\u001b[0m\u001b[0;34m(\u001b[0m\u001b[0mold_loop\u001b[0m\u001b[0;34m)\u001b[0m\u001b[0;34m\u001b[0m\u001b[0;34m\u001b[0m\u001b[0m\n",
      "\u001b[0;32m/usr/local/Cellar/python/3.7.3/Frameworks/Python.framework/Versions/3.7/lib/python3.7/asyncio/base_events.py\u001b[0m in \u001b[0;36mrun_forever\u001b[0;34m(self)\u001b[0m\n\u001b[1;32m    524\u001b[0m         \u001b[0mself\u001b[0m\u001b[0;34m.\u001b[0m\u001b[0m_check_closed\u001b[0m\u001b[0;34m(\u001b[0m\u001b[0;34m)\u001b[0m\u001b[0;34m\u001b[0m\u001b[0;34m\u001b[0m\u001b[0m\n\u001b[1;32m    525\u001b[0m         \u001b[0;32mif\u001b[0m \u001b[0mself\u001b[0m\u001b[0;34m.\u001b[0m\u001b[0mis_running\u001b[0m\u001b[0;34m(\u001b[0m\u001b[0;34m)\u001b[0m\u001b[0;34m:\u001b[0m\u001b[0;34m\u001b[0m\u001b[0;34m\u001b[0m\u001b[0m\n\u001b[0;32m--> 526\u001b[0;31m             \u001b[0;32mraise\u001b[0m \u001b[0mRuntimeError\u001b[0m\u001b[0;34m(\u001b[0m\u001b[0;34m'This event loop is already running'\u001b[0m\u001b[0;34m)\u001b[0m\u001b[0;34m\u001b[0m\u001b[0;34m\u001b[0m\u001b[0m\n\u001b[0m\u001b[1;32m    527\u001b[0m         \u001b[0;32mif\u001b[0m \u001b[0mevents\u001b[0m\u001b[0;34m.\u001b[0m\u001b[0m_get_running_loop\u001b[0m\u001b[0;34m(\u001b[0m\u001b[0;34m)\u001b[0m \u001b[0;32mis\u001b[0m \u001b[0;32mnot\u001b[0m \u001b[0;32mNone\u001b[0m\u001b[0;34m:\u001b[0m\u001b[0;34m\u001b[0m\u001b[0;34m\u001b[0m\u001b[0m\n\u001b[1;32m    528\u001b[0m             raise RuntimeError(\n",
      "\u001b[0;31mRuntimeError\u001b[0m: This event loop is already running"
     ]
    },
    {
     "name": "stdout",
     "output_type": "stream",
     "text": [
      "Socket opened!\n",
      "{\"type\":\"reset\"}\n",
      "{\"type\":\"get_step\",\"step\":1}\n",
      "{\"type\":\"get_step\",\"step\":2}\n",
      "{\"type\":\"get_step\",\"step\":3}\n",
      "{\"type\":\"get_step\",\"step\":4}\n",
      "{\"type\":\"get_step\",\"step\":5}\n",
      "{\"type\":\"get_step\",\"step\":6}\n",
      "{\"type\":\"get_step\",\"step\":7}\n",
      "{\"type\":\"get_step\",\"step\":8}\n",
      "{\"type\":\"get_step\",\"step\":9}\n",
      "{\"type\":\"get_step\",\"step\":10}\n",
      "{\"type\":\"get_step\",\"step\":11}\n",
      "{\"type\":\"get_step\",\"step\":12}\n",
      "{\"type\":\"get_step\",\"step\":13}\n",
      "{\"type\":\"get_step\",\"step\":14}\n",
      "{\"type\":\"get_step\",\"step\":15}\n",
      "{\"type\":\"get_step\",\"step\":16}\n",
      "{\"type\":\"get_step\",\"step\":17}\n",
      "{\"type\":\"get_step\",\"step\":18}\n",
      "{\"type\":\"get_step\",\"step\":19}\n",
      "{\"type\":\"get_step\",\"step\":20}\n",
      "{\"type\":\"get_step\",\"step\":21}\n",
      "{\"type\":\"get_step\",\"step\":22}\n",
      "{\"type\":\"get_step\",\"step\":23}\n",
      "{\"type\":\"get_step\",\"step\":24}\n",
      "{\"type\":\"get_step\",\"step\":25}\n",
      "{\"type\":\"get_step\",\"step\":26}\n",
      "{\"type\":\"get_step\",\"step\":27}\n",
      "{\"type\":\"get_step\",\"step\":28}\n",
      "{\"type\":\"get_step\",\"step\":29}\n",
      "{\"type\":\"get_step\",\"step\":30}\n",
      "{\"type\":\"get_step\",\"step\":31}\n",
      "{\"type\":\"get_step\",\"step\":32}\n",
      "{\"type\":\"get_step\",\"step\":33}\n",
      "{\"type\":\"get_step\",\"step\":34}\n",
      "{\"type\":\"get_step\",\"step\":35}\n",
      "{\"type\":\"get_step\",\"step\":36}\n",
      "{\"type\":\"get_step\",\"step\":37}\n",
      "{\"type\":\"get_step\",\"step\":38}\n",
      "{\"type\":\"get_step\",\"step\":39}\n",
      "{\"type\":\"get_step\",\"step\":40}\n",
      "{\"type\":\"get_step\",\"step\":41}\n",
      "{\"type\":\"get_step\",\"step\":42}\n",
      "{\"type\":\"get_step\",\"step\":43}\n",
      "{\"type\":\"get_step\",\"step\":44}\n",
      "{\"type\":\"get_step\",\"step\":45}\n",
      "{\"type\":\"get_step\",\"step\":46}\n",
      "{\"type\":\"get_step\",\"step\":47}\n",
      "{\"type\":\"get_step\",\"step\":48}\n",
      "{\"type\":\"get_step\",\"step\":49}\n",
      "{\"type\":\"get_step\",\"step\":50}\n",
      "{\"type\":\"get_step\",\"step\":51}\n",
      "{\"type\":\"get_step\",\"step\":52}\n",
      "{\"type\":\"get_step\",\"step\":53}\n",
      "{\"type\":\"get_step\",\"step\":54}\n",
      "{\"type\":\"get_step\",\"step\":55}\n",
      "{\"type\":\"get_step\",\"step\":56}\n",
      "{\"type\":\"get_step\",\"step\":57}\n",
      "{\"type\":\"get_step\",\"step\":58}\n",
      "{\"type\":\"get_step\",\"step\":59}\n",
      "{\"type\":\"get_step\",\"step\":60}\n",
      "{\"type\":\"get_step\",\"step\":61}\n",
      "{\"type\":\"get_step\",\"step\":62}\n",
      "{\"type\":\"get_step\",\"step\":63}\n",
      "{\"type\":\"get_step\",\"step\":64}\n",
      "{\"type\":\"get_step\",\"step\":65}\n",
      "{\"type\":\"get_step\",\"step\":66}\n",
      "{\"type\":\"get_step\",\"step\":67}\n",
      "{\"type\":\"get_step\",\"step\":68}\n",
      "{\"type\":\"get_step\",\"step\":69}\n",
      "{\"type\":\"get_step\",\"step\":70}\n",
      "{\"type\":\"get_step\",\"step\":71}\n",
      "{\"type\":\"get_step\",\"step\":72}\n",
      "{\"type\":\"get_step\",\"step\":73}\n",
      "{\"type\":\"get_step\",\"step\":74}\n",
      "{\"type\":\"get_step\",\"step\":75}\n",
      "{\"type\":\"get_step\",\"step\":76}\n",
      "{\"type\":\"get_step\",\"step\":77}\n",
      "{\"type\":\"get_step\",\"step\":78}\n",
      "{\"type\":\"get_step\",\"step\":79}\n",
      "{\"type\":\"get_step\",\"step\":80}\n",
      "{\"type\":\"get_step\",\"step\":81}\n",
      "{\"type\":\"get_step\",\"step\":82}\n",
      "{\"type\":\"get_step\",\"step\":83}\n",
      "{\"type\":\"get_step\",\"step\":84}\n",
      "{\"type\":\"get_step\",\"step\":85}\n",
      "{\"type\":\"get_step\",\"step\":86}\n",
      "{\"type\":\"get_step\",\"step\":87}\n",
      "{\"type\":\"get_step\",\"step\":88}\n",
      "{\"type\":\"get_step\",\"step\":89}\n",
      "{\"type\":\"get_step\",\"step\":90}\n",
      "{\"type\":\"get_step\",\"step\":91}\n",
      "{\"type\":\"get_step\",\"step\":92}\n",
      "{\"type\":\"get_step\",\"step\":93}\n",
      "{\"type\":\"get_step\",\"step\":94}\n",
      "{\"type\":\"get_step\",\"step\":95}\n",
      "{\"type\":\"get_step\",\"step\":96}\n"
     ]
    }
   ],
   "source": [
    "from mesa.visualization.modules import CanvasGrid\n",
    "from mesa.visualization.ModularVisualization import ModularServer\n",
    "\n",
    "def agent_portrayal(agent):\n",
    "    portrayal = {\"Shape\": \"circle\",\n",
    "                 \"Color\": \"red\",\n",
    "                 \"Filled\": \"true\",\n",
    "                 \"Layer\": 0,\n",
    "                 \"r\": 0.5}\n",
    "    if agent.infected == 0:\n",
    "        portrayal[\"Color\"] = \"blue\"\n",
    "        portrayal[\"Layer\"] = 0\n",
    "        portrayal[\"r\"] = 0.5\n",
    "    else:\n",
    "        portrayal[\"Color\"] = \"red\"\n",
    "        portrayal[\"Layer\"] = 1\n",
    "        portrayal[\"r\"] = 0.2\n",
    "    return portrayal\n",
    "\n",
    "grid = CanvasGrid(agent_portrayal, 100, 100, 1000, 1000)\n",
    "server = ModularServer(CovidModel,\n",
    "                       [grid],\n",
    "                       \"Covid Model\",\n",
    "                       {\"N\":100, \"width\":100, \"height\":100})\n",
    "server.port = 8521 # The default\n",
    "server.launch()"
   ]
  },
  {
   "cell_type": "code",
   "execution_count": null,
   "metadata": {},
   "outputs": [],
   "source": []
  }
 ],
 "metadata": {
  "colab": {
   "collapsed_sections": [],
   "name": "Covid19BaseModel.ipynb",
   "provenance": []
  },
  "kernelspec": {
   "display_name": "Python 3",
   "language": "python",
   "name": "python3"
  },
  "language_info": {
   "codemirror_mode": {
    "name": "ipython",
    "version": 3
   },
   "file_extension": ".py",
   "mimetype": "text/x-python",
   "name": "python",
   "nbconvert_exporter": "python",
   "pygments_lexer": "ipython3",
   "version": "3.7.3"
  }
 },
 "nbformat": 4,
 "nbformat_minor": 1
}
